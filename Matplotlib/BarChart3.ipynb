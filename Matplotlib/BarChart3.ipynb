{
 "cells": [
  {
   "cell_type": "code",
   "execution_count": null,
   "metadata": {},
   "outputs": [],
   "source": [
    "# Stacked Percentage Bar Plot In MatPlotLib\n",
    "# Draw a stacked bar chart using data (dataset,dictionary,etc.)\n",
    "import pandas as pd\n",
    "import matplotlib.pyplot as plt\n",
    "\n",
    "df = pd.read_excel(\"Hours.xslx\")\n",
    "print(df)\n",
    "\n",
    "df.plot(\n",
    "    x = 'Name',\n",
    "    kind = 'Barh',\n",
    "    stacked = True,\n",
    "    title = 'Stacked Bar Graph',\n",
    "    mark_right=True)\n",
    "plt.plot()"
   ]
  },
  {
   "cell_type": "code",
   "execution_count": null,
   "metadata": {},
   "outputs": [],
   "source": [
    "# Add Percentage on subgroups of each group\n",
    "import pandas as pd\n",
    "import numpy as np\n",
    "import matplotlib.pyplot as plt\n",
    "\n",
    "df = pd.read_excel(\"Hours.xslx\")\n",
    "print(df)\n",
    "\n",
    "df.plot(\n",
    "    x = 'Name',\n",
    "    kind = 'barh',\n",
    "    stacked=True,\n",
    "    title = 'Percentage Stacked Bar Graph',\n",
    "    mark_right = True)\n",
    "df_total = df[\"Studied\"] + df[\"Slept\"] + df[\"Other\"]\n",
    "df_rel = df[df.columns[1:]].div(df_total,0)*100\n",
    "\n",
    "for n in def_rel:\n",
    "    for i , (cs,ab,pc) in enumerate(zip(df.iloc[:,1].cumsum(1)[n],\n",
    "                                        df[n],df_rel[n])):\n",
    "        plt.text(cs - ab/2,i,str(np.round(pc,1)) + '%',\n",
    "                 va = 'center',ha = 'center')"
   ]
  },
  {
   "cell_type": "code",
   "execution_count": null,
   "metadata": {},
   "outputs": [],
   "source": [
    "# Edit the chart with some features (optional).\n",
    "import pandas as pd\n",
    "import numpy as np\n",
    "import matplotlib.pyplot as plt\n",
    "\n",
    "df = pd.read_xslx(\"Hours.xslx\")\n",
    "\n",
    "print(df)\n",
    "\n",
    "df.plot(\n",
    "    x = 'Name',\n",
    "    kind = 'barh',\n",
    "    stacked = True\n",
    "    title  ='Percentage Stacked Bar Graph',\n",
    "    mark_right = True)\n",
    "\n",
    "df_total = df[\"Studied\"] + df[\"Slept\"] + df[\"Other\"]\n",
    "def_rel = df[df.columns[1:]].div(df_total,0)*100\n",
    "\n",
    "for n in def_rel:\n",
    "    for i , (cs,ab,pc) in enumerate(zip(df.iloc[:,1:].cumsum(1)[n],\n",
    "                                        df[n],df_rel[n])):\n",
    "        plt.text(cs-ab/2,i,str(np.round(pc,1)) + '%',\n",
    "                 va = 'center',ha = 'center',rotation = 20,fontsize = 8)\n",
    "        "
   ]
  }
 ],
 "metadata": {
  "kernelspec": {
   "display_name": "Python 3",
   "language": "python",
   "name": "python3"
  },
  "language_info": {
   "codemirror_mode": {
    "name": "ipython",
    "version": 3
   },
   "file_extension": ".py",
   "mimetype": "text/x-python",
   "name": "python",
   "nbconvert_exporter": "python",
   "pygments_lexer": "ipython3",
   "version": "3.10.6"
  },
  "orig_nbformat": 4
 },
 "nbformat": 4,
 "nbformat_minor": 2
}
